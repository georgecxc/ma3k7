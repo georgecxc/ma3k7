{
 "cells": [
  {
   "cell_type": "code",
   "execution_count": 1,
   "id": "491e8a06",
   "metadata": {},
   "outputs": [],
   "source": [
    "import itertools\n",
    "import numpy"
   ]
  },
  {
   "cell_type": "code",
   "execution_count": 2,
   "id": "34d51803",
   "metadata": {},
   "outputs": [],
   "source": [
    "def check(x,n):\n",
    "    for i in range(n):\n",
    "        for j in range(n):\n",
    "            if x[i][j]!=n*n:\n",
    "                if i==0:\n",
    "                    k=[1]\n",
    "                elif i==n-1:\n",
    "                    k=[n-2]\n",
    "                else:\n",
    "                    k=[i-1,i+1]\n",
    "\n",
    "                if j==0:\n",
    "                    l=[1]\n",
    "                elif j==n-1:\n",
    "                    l=[n-2]\n",
    "                else:\n",
    "                    l=[j-1,j+1]\n",
    "                \n",
    "\n",
    "                \n",
    "                for m in k:\n",
    "                    for o in l:\n",
    "                        if x[i][j]+1==x[i][o]:\n",
    "\n",
    "                            break\n",
    "                        if x[i][j]+1==x[m][j]:\n",
    "\n",
    "                            break\n",
    "                    else:\n",
    "                        continue\n",
    "                    break\n",
    "                else:\n",
    "\n",
    "                    break\n",
    "        else:\n",
    "            continue\n",
    "        break\n",
    "    else:\n",
    "        return x\n",
    "    return numpy.zeros((n,n))"
   ]
  },
  {
   "cell_type": "code",
   "execution_count": 3,
   "id": "12174eb6",
   "metadata": {},
   "outputs": [],
   "source": [
    "a=list(itertools.permutations([1,2,3,4]))\n",
    "a=numpy.array(a)"
   ]
  },
  {
   "cell_type": "code",
   "execution_count": 4,
   "id": "37401d4c",
   "metadata": {},
   "outputs": [],
   "source": [
    "b=[]\n",
    "for i in a:\n",
    "    b.append(numpy.reshape(i,(2,2)))"
   ]
  },
  {
   "cell_type": "code",
   "execution_count": 5,
   "id": "44718a1e",
   "metadata": {},
   "outputs": [],
   "source": [
    "c=[]\n",
    "for i in b:\n",
    "    if check(i,2)[0][0]!=0:\n",
    "        c.append(check(i,2))"
   ]
  },
  {
   "cell_type": "code",
   "execution_count": 6,
   "id": "2ece091b",
   "metadata": {},
   "outputs": [
    {
     "data": {
      "text/plain": [
       "[array([[1, 2],\n",
       "        [4, 3]]),\n",
       " array([[1, 4],\n",
       "        [2, 3]]),\n",
       " array([[2, 1],\n",
       "        [3, 4]]),\n",
       " array([[2, 3],\n",
       "        [1, 4]]),\n",
       " array([[3, 2],\n",
       "        [4, 1]]),\n",
       " array([[3, 4],\n",
       "        [2, 1]]),\n",
       " array([[4, 1],\n",
       "        [3, 2]]),\n",
       " array([[4, 3],\n",
       "        [1, 2]])]"
      ]
     },
     "execution_count": 6,
     "metadata": {},
     "output_type": "execute_result"
    }
   ],
   "source": [
    "c"
   ]
  },
  {
   "cell_type": "code",
   "execution_count": 7,
   "id": "e1476511",
   "metadata": {},
   "outputs": [],
   "source": [
    "a=list(itertools.permutations([1,2,3,4,5,6,7,8,9]))\n",
    "a=numpy.array(a)\n",
    "b=[]\n",
    "for i in a:\n",
    "    b.append(numpy.reshape(i,(3,3)))"
   ]
  },
  {
   "cell_type": "code",
   "execution_count": 8,
   "id": "617bf85d",
   "metadata": {},
   "outputs": [],
   "source": [
    "d=[]\n",
    "for i in b:\n",
    "    if check(i,3)[0][0]!=0:\n",
    "        d.append(check(i,3))"
   ]
  },
  {
   "cell_type": "code",
   "execution_count": 10,
   "id": "a66707d8",
   "metadata": {},
   "outputs": [
    {
     "data": {
      "text/plain": [
       "40"
      ]
     },
     "execution_count": 10,
     "metadata": {},
     "output_type": "execute_result"
    }
   ],
   "source": [
    "len(d)"
   ]
  },
  {
   "cell_type": "code",
   "execution_count": null,
   "id": "4b4801e3",
   "metadata": {},
   "outputs": [],
   "source": []
  }
 ],
 "metadata": {
  "kernelspec": {
   "display_name": "Python 3 (ipykernel)",
   "language": "python",
   "name": "python3"
  },
  "language_info": {
   "codemirror_mode": {
    "name": "ipython",
    "version": 3
   },
   "file_extension": ".py",
   "mimetype": "text/x-python",
   "name": "python",
   "nbconvert_exporter": "python",
   "pygments_lexer": "ipython3",
   "version": "3.9.13"
  }
 },
 "nbformat": 4,
 "nbformat_minor": 5
}
