{
 "cells": [
  {
   "cell_type": "code",
   "execution_count": 1,
   "id": "5850bfdb",
   "metadata": {},
   "outputs": [],
   "source": [
    "#check where the list x occur within list y, output the position, output 0 is y doesn't contain x\n",
    "def check(x,y):\n",
    "    a=len(x)\n",
    "    for i in range(len(y)+1-a):\n",
    "        if x==y[i+1:i+a+1]:\n",
    "            return i+2\n",
    "    return 0"
   ]
  },
  {
   "cell_type": "code",
   "execution_count": 2,
   "id": "335129f7",
   "metadata": {},
   "outputs": [],
   "source": [
    "#give the two starting numbers in list x output the number bracelet with length n\n",
    "def nb(x,n):\n",
    "    for i in range(n-2):\n",
    "        a=(x[-1]+x[-2])%10\n",
    "        x.append(a)\n",
    "    return x"
   ]
  },
  {
   "cell_type": "code",
   "execution_count": 3,
   "id": "157f473c",
   "metadata": {},
   "outputs": [
    {
     "data": {
      "text/plain": [
       "[1,\n",
       " 5,\n",
       " 6,\n",
       " 1,\n",
       " 7,\n",
       " 8,\n",
       " 5,\n",
       " 3,\n",
       " 8,\n",
       " 1,\n",
       " 9,\n",
       " 0,\n",
       " 9,\n",
       " 9,\n",
       " 8,\n",
       " 7,\n",
       " 5,\n",
       " 2,\n",
       " 7,\n",
       " 9,\n",
       " 6,\n",
       " 5,\n",
       " 1,\n",
       " 6,\n",
       " 7,\n",
       " 3,\n",
       " 0,\n",
       " 3,\n",
       " 3,\n",
       " 6,\n",
       " 9,\n",
       " 5,\n",
       " 4,\n",
       " 9,\n",
       " 3,\n",
       " 2,\n",
       " 5,\n",
       " 7,\n",
       " 2,\n",
       " 9,\n",
       " 1,\n",
       " 0,\n",
       " 1,\n",
       " 1,\n",
       " 2,\n",
       " 3,\n",
       " 5,\n",
       " 8,\n",
       " 3,\n",
       " 1,\n",
       " 4,\n",
       " 5,\n",
       " 9,\n",
       " 4,\n",
       " 3,\n",
       " 7,\n",
       " 0,\n",
       " 7,\n",
       " 7,\n",
       " 4,\n",
       " 1,\n",
       " 5,\n",
       " 6,\n",
       " 1,\n",
       " 7,\n",
       " 8,\n",
       " 5,\n",
       " 3,\n",
       " 8,\n",
       " 1,\n",
       " 9,\n",
       " 0,\n",
       " 9,\n",
       " 9,\n",
       " 8,\n",
       " 7,\n",
       " 5,\n",
       " 2,\n",
       " 7,\n",
       " 9,\n",
       " 6,\n",
       " 5,\n",
       " 1,\n",
       " 6,\n",
       " 7,\n",
       " 3,\n",
       " 0,\n",
       " 3,\n",
       " 3,\n",
       " 6,\n",
       " 9,\n",
       " 5,\n",
       " 4,\n",
       " 9,\n",
       " 3,\n",
       " 2,\n",
       " 5,\n",
       " 7,\n",
       " 2,\n",
       " 9]"
      ]
     },
     "execution_count": 3,
     "metadata": {},
     "output_type": "execute_result"
    }
   ],
   "source": [
    "nb([1,5],100)"
   ]
  },
  {
   "cell_type": "code",
   "execution_count": 4,
   "id": "19630ec2",
   "metadata": {},
   "outputs": [],
   "source": [
    "#given the list of number bracelets of y, find the next pair of two numbers haven't occur in the bracelets, output 0 if all possible pairs occured\n",
    "def find(y):\n",
    "    for i in range(10):\n",
    "        for j in range(10):\n",
    "            for k in y:\n",
    "                if check([i,j],k)!=0:\n",
    "                    break\n",
    "                if k==y[-1] and check([i,j],k)==0:\n",
    "                    return [i,j]\n",
    "    return 0"
   ]
  },
  {
   "cell_type": "code",
   "execution_count": 5,
   "id": "03463479",
   "metadata": {},
   "outputs": [],
   "source": [
    "#there are atmost 100 pairs of two numbers below 10\n",
    "b=nb([1,5],100)"
   ]
  },
  {
   "cell_type": "code",
   "execution_count": 6,
   "id": "4f12b056",
   "metadata": {},
   "outputs": [
    {
     "data": {
      "text/plain": [
       "61"
      ]
     },
     "execution_count": 6,
     "metadata": {},
     "output_type": "execute_result"
    }
   ],
   "source": [
    "#find where the starting pairs occurs later in the list\n",
    "check([1,5],b)"
   ]
  },
  {
   "cell_type": "code",
   "execution_count": 7,
   "id": "f29d8408",
   "metadata": {},
   "outputs": [],
   "source": [
    "#leave only the number bracelet until it reaches the first repeatition of starting pair\n",
    "b=nb([1,5],62)"
   ]
  },
  {
   "cell_type": "code",
   "execution_count": 8,
   "id": "951fc051",
   "metadata": {},
   "outputs": [
    {
     "data": {
      "text/plain": [
       "[0, 0]"
      ]
     },
     "execution_count": 8,
     "metadata": {},
     "output_type": "execute_result"
    }
   ],
   "source": [
    "#find the next pair of two numbers haven't occur in all current number bracelet\n",
    "find([b])"
   ]
  },
  {
   "cell_type": "code",
   "execution_count": 9,
   "id": "b861f5e5",
   "metadata": {},
   "outputs": [],
   "source": [
    "a=[0,0,0]"
   ]
  },
  {
   "cell_type": "code",
   "execution_count": 10,
   "id": "f6b65e92",
   "metadata": {},
   "outputs": [],
   "source": [
    "#repeat the process until all number pairs occur in all the number bracelet"
   ]
  },
  {
   "cell_type": "code",
   "execution_count": 11,
   "id": "e812293c",
   "metadata": {},
   "outputs": [
    {
     "data": {
      "text/plain": [
       "[0, 2]"
      ]
     },
     "execution_count": 11,
     "metadata": {},
     "output_type": "execute_result"
    }
   ],
   "source": [
    "find([a,b])"
   ]
  },
  {
   "cell_type": "code",
   "execution_count": 12,
   "id": "66922fe4",
   "metadata": {},
   "outputs": [
    {
     "data": {
      "text/plain": [
       "21"
      ]
     },
     "execution_count": 12,
     "metadata": {},
     "output_type": "execute_result"
    }
   ],
   "source": [
    "c=nb([0,2],100)\n",
    "check([0,2],c)"
   ]
  },
  {
   "cell_type": "code",
   "execution_count": 13,
   "id": "8cb2c708",
   "metadata": {},
   "outputs": [],
   "source": [
    "c=nb([0,2],22)"
   ]
  },
  {
   "cell_type": "code",
   "execution_count": 14,
   "id": "611068be",
   "metadata": {},
   "outputs": [
    {
     "data": {
      "text/plain": [
       "[0, 5]"
      ]
     },
     "execution_count": 14,
     "metadata": {},
     "output_type": "execute_result"
    }
   ],
   "source": [
    "find([a,b,c])"
   ]
  },
  {
   "cell_type": "code",
   "execution_count": 15,
   "id": "2ff8c9d0",
   "metadata": {},
   "outputs": [
    {
     "data": {
      "text/plain": [
       "4"
      ]
     },
     "execution_count": 15,
     "metadata": {},
     "output_type": "execute_result"
    }
   ],
   "source": [
    "d=nb([0,5],100)\n",
    "check([0,5],d)"
   ]
  },
  {
   "cell_type": "code",
   "execution_count": 16,
   "id": "8dd2e4be",
   "metadata": {},
   "outputs": [],
   "source": [
    "d=nb([0,5],5)"
   ]
  },
  {
   "cell_type": "code",
   "execution_count": 17,
   "id": "3fd913b1",
   "metadata": {},
   "outputs": [
    {
     "data": {
      "text/plain": [
       "[1, 3]"
      ]
     },
     "execution_count": 17,
     "metadata": {},
     "output_type": "execute_result"
    }
   ],
   "source": [
    "find([a,b,c,d])"
   ]
  },
  {
   "cell_type": "code",
   "execution_count": 18,
   "id": "d04eb9ea",
   "metadata": {},
   "outputs": [
    {
     "data": {
      "text/plain": [
       "13"
      ]
     },
     "execution_count": 18,
     "metadata": {},
     "output_type": "execute_result"
    }
   ],
   "source": [
    "e=nb([1,3],100)\n",
    "check([1,3],e)"
   ]
  },
  {
   "cell_type": "code",
   "execution_count": 19,
   "id": "ad5ba615",
   "metadata": {},
   "outputs": [],
   "source": [
    "e=nb([1,3],14)"
   ]
  },
  {
   "cell_type": "code",
   "execution_count": 20,
   "id": "5fe18817",
   "metadata": {},
   "outputs": [
    {
     "data": {
      "text/plain": [
       "[2, 6]"
      ]
     },
     "execution_count": 20,
     "metadata": {},
     "output_type": "execute_result"
    }
   ],
   "source": [
    "find([a,b,c,d,e])"
   ]
  },
  {
   "cell_type": "code",
   "execution_count": 21,
   "id": "626fb050",
   "metadata": {},
   "outputs": [
    {
     "data": {
      "text/plain": [
       "5"
      ]
     },
     "execution_count": 21,
     "metadata": {},
     "output_type": "execute_result"
    }
   ],
   "source": [
    "f=nb([2,6],100)\n",
    "check([2,6],f)"
   ]
  },
  {
   "cell_type": "code",
   "execution_count": 22,
   "id": "c53d16d5",
   "metadata": {},
   "outputs": [],
   "source": [
    "f=nb([2,6],6)"
   ]
  },
  {
   "cell_type": "code",
   "execution_count": 23,
   "id": "f9b0cbdd",
   "metadata": {},
   "outputs": [
    {
     "data": {
      "text/plain": [
       "0"
      ]
     },
     "execution_count": 23,
     "metadata": {},
     "output_type": "execute_result"
    }
   ],
   "source": [
    "find([a,b,c,d,e,f])"
   ]
  },
  {
   "cell_type": "code",
   "execution_count": 24,
   "id": "7f8b1456",
   "metadata": {},
   "outputs": [
    {
     "name": "stdout",
     "output_type": "stream",
     "text": [
      "these are all the possible number bracelet\n",
      "[[0, 0, 0], [1, 5, 6, 1, 7, 8, 5, 3, 8, 1, 9, 0, 9, 9, 8, 7, 5, 2, 7, 9, 6, 5, 1, 6, 7, 3, 0, 3, 3, 6, 9, 5, 4, 9, 3, 2, 5, 7, 2, 9, 1, 0, 1, 1, 2, 3, 5, 8, 3, 1, 4, 5, 9, 4, 3, 7, 0, 7, 7, 4, 1, 5], [0, 2, 2, 4, 6, 0, 6, 6, 2, 8, 0, 8, 8, 6, 4, 0, 4, 4, 8, 2, 0, 2], [0, 5, 5, 0, 5], [1, 3, 4, 7, 1, 8, 9, 7, 6, 3, 9, 2, 1, 3], [2, 6, 8, 4, 2, 6]]\n"
     ]
    }
   ],
   "source": [
    "print('these are all the possible number bracelet')\n",
    "print([a,b,c,d,e,f])"
   ]
  },
  {
   "cell_type": "code",
   "execution_count": 25,
   "id": "c32af890",
   "metadata": {},
   "outputs": [
    {
     "data": {
      "text/plain": [
       "112"
      ]
     },
     "execution_count": 25,
     "metadata": {},
     "output_type": "execute_result"
    }
   ],
   "source": [
    "len(a)+len(b)+len(c)+len(d)+len(e)+len(f)"
   ]
  },
  {
   "cell_type": "code",
   "execution_count": 26,
   "id": "1fffe663",
   "metadata": {},
   "outputs": [
    {
     "data": {
      "text/plain": [
       "6"
      ]
     },
     "execution_count": 26,
     "metadata": {},
     "output_type": "execute_result"
    }
   ],
   "source": [
    "len([a,b,c,d,e,f])"
   ]
  },
  {
   "cell_type": "code",
   "execution_count": 27,
   "id": "388e3b1b",
   "metadata": {},
   "outputs": [
    {
     "name": "stdout",
     "output_type": "stream",
     "text": [
      "112-6*2=100, so all pairs are considered, no more number bracelet exist\n"
     ]
    }
   ],
   "source": [
    "print('112-6*2=100, so all pairs are considered, no more number bracelet exist')"
   ]
  }
 ],
 "metadata": {
  "kernelspec": {
   "display_name": "Python 3 (ipykernel)",
   "language": "python",
   "name": "python3"
  },
  "language_info": {
   "codemirror_mode": {
    "name": "ipython",
    "version": 3
   },
   "file_extension": ".py",
   "mimetype": "text/x-python",
   "name": "python",
   "nbconvert_exporter": "python",
   "pygments_lexer": "ipython3",
   "version": "3.9.13"
  }
 },
 "nbformat": 4,
 "nbformat_minor": 5
}
