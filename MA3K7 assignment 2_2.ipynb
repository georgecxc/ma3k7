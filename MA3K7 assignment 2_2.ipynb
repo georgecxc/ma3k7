{
 "cells": [
  {
   "cell_type": "code",
   "execution_count": 1,
   "id": "72c4b1cf",
   "metadata": {},
   "outputs": [],
   "source": [
    "import numpy\n",
    "import random"
   ]
  },
  {
   "cell_type": "code",
   "execution_count": 2,
   "id": "ed4077f9",
   "metadata": {},
   "outputs": [],
   "source": [
    "def check41(a):\n",
    "    if (a!=None).all():\n",
    "        b.append(numpy.linalg.det(numpy.matrix(a,dtype=int)))\n",
    "    else:\n",
    "        for i in range(4):\n",
    "            for j in range(4):\n",
    "                if a[i,j]==None:\n",
    "                    c=a.copy()\n",
    "                    c[i,j]=1\n",
    "                    check40(c)"
   ]
  },
  {
   "cell_type": "code",
   "execution_count": 3,
   "id": "ef805f8c",
   "metadata": {},
   "outputs": [],
   "source": [
    "def check40(a):\n",
    "    if (a!=None).all():\n",
    "        d.append(numpy.linalg.det(numpy.matrix(a,dtype=int)))\n",
    "\n",
    "    else:\n",
    "        for i in range(4):\n",
    "            for j in range(4):\n",
    "                if a[i,j]==1:\n",
    "                    if a[int(i/2)*2+(i+1)%2,j]==None:\n",
    "                        c=a.copy()\n",
    "                        c[int(i/2)*2+(i+1)%2,j]=0\n",
    "                        check41(c)\n",
    "                        break\n",
    "            else:\n",
    "                continue\n",
    "            break\n",
    "        else:\n",
    "            for i in range(4):\n",
    "                for j in range(4):\n",
    "                    if a[i,j]==None:\n",
    "                        c=a.copy()\n",
    "                        c[i,j]=0\n",
    "                        check41(c)\n",
    "                        break\n",
    "                else:\n",
    "                    continue\n",
    "                break"
   ]
  },
  {
   "cell_type": "code",
   "execution_count": 4,
   "id": "04a57856",
   "metadata": {},
   "outputs": [],
   "source": [
    "b=[]\n",
    "d=[]"
   ]
  },
  {
   "cell_type": "code",
   "execution_count": 5,
   "id": "473c2f62",
   "metadata": {},
   "outputs": [],
   "source": [
    "check40(numpy.matrix([[1,None,None,None],[0,None,None,None],[None,None,None,None],[None,None,None,None]]))"
   ]
  },
  {
   "cell_type": "code",
   "execution_count": 6,
   "id": "af655307",
   "metadata": {},
   "outputs": [],
   "source": [
    "check41(numpy.matrix([[1,None,None,None],[0,None,None,None],[None,None,None,None],[None,None,None,None]]))"
   ]
  },
  {
   "cell_type": "code",
   "execution_count": 7,
   "id": "3b7ad8db",
   "metadata": {},
   "outputs": [
    {
     "data": {
      "text/plain": [
       "135135"
      ]
     },
     "execution_count": 7,
     "metadata": {},
     "output_type": "execute_result"
    }
   ],
   "source": [
    "len(d)"
   ]
  },
  {
   "cell_type": "code",
   "execution_count": 8,
   "id": "cb4ededb",
   "metadata": {},
   "outputs": [
    {
     "data": {
      "text/plain": [
       "645120"
      ]
     },
     "execution_count": 8,
     "metadata": {},
     "output_type": "execute_result"
    }
   ],
   "source": [
    "len(b)"
   ]
  },
  {
   "cell_type": "code",
   "execution_count": 9,
   "id": "49e90909",
   "metadata": {},
   "outputs": [
    {
     "data": {
      "text/plain": [
       "True"
      ]
     },
     "execution_count": 9,
     "metadata": {},
     "output_type": "execute_result"
    }
   ],
   "source": [
    "(numpy.array(b)==0).all()"
   ]
  },
  {
   "cell_type": "code",
   "execution_count": 10,
   "id": "f98ab6ab",
   "metadata": {},
   "outputs": [
    {
     "data": {
      "text/plain": [
       "True"
      ]
     },
     "execution_count": 10,
     "metadata": {},
     "output_type": "execute_result"
    }
   ],
   "source": [
    "(numpy.array(d)==0).all()"
   ]
  },
  {
   "cell_type": "code",
   "execution_count": 11,
   "id": "66a4456a",
   "metadata": {},
   "outputs": [],
   "source": [
    "def check51(a):\n",
    "    if (a!=None).all():\n",
    "        e.append(numpy.linalg.det(numpy.matrix(a,dtype=int)))\n",
    "    else:\n",
    "        for i in range(5):\n",
    "            for j in range(5):\n",
    "                if a[i,j]==None:\n",
    "                    c=a.copy()\n",
    "                    c[i,j]=1\n",
    "                    check50(c)"
   ]
  },
  {
   "cell_type": "code",
   "execution_count": 12,
   "id": "547ed76b",
   "metadata": {},
   "outputs": [],
   "source": [
    "def check50(a):\n",
    "    if (a!=None).all():\n",
    "        f.append(numpy.linalg.det(numpy.matrix(a,dtype=int)))\n",
    "\n",
    "    else:\n",
    "        for i in range(4):\n",
    "            for j in range(5):\n",
    "                if a[i,j]==1:\n",
    "                    if a[int(i/2)*2+(i+1)%2,j]==None:\n",
    "                        c=a.copy()\n",
    "                        c[int(i/2)*2+(i+1)%2,j]=0\n",
    "                        check51(c)\n",
    "                        break\n",
    "            else:\n",
    "                continue\n",
    "            break\n",
    "        else:\n",
    "            for i in range(5):\n",
    "                if a[4,i]==None:\n",
    "                    c=a.copy()\n",
    "                    c[4,i]=0\n",
    "                    check51(c)\n",
    "                    break\n",
    "            else:\n",
    "                for i in range(5):\n",
    "                    for j in range(5):\n",
    "                        if a[i,j]==None:\n",
    "                            c=a.copy()\n",
    "                            c[i,j]=0\n",
    "                            check51(c)\n",
    "                            break\n",
    "                    else:\n",
    "                        continue\n",
    "                    break"
   ]
  },
  {
   "cell_type": "code",
   "execution_count": 13,
   "id": "54dfc14f",
   "metadata": {},
   "outputs": [],
   "source": [
    "e=[]\n",
    "f=[]"
   ]
  },
  {
   "cell_type": "code",
   "execution_count": 14,
   "id": "f851a03b",
   "metadata": {},
   "outputs": [],
   "source": [
    "check50(numpy.matrix([[1,0,None,None,1],[0,1,None,None,0],[None,None,None,None,1],[None,None,None,None,0],[1,0,1,None,None]]))"
   ]
  },
  {
   "cell_type": "code",
   "execution_count": 15,
   "id": "4742c80a",
   "metadata": {},
   "outputs": [],
   "source": [
    "check50(numpy.matrix([[1,None,None,None,0],[0,None,None,None,1],[None,None,None,None,1],[None,None,None,None,0],[0,1,1,0,1]]))"
   ]
  },
  {
   "cell_type": "code",
   "execution_count": 16,
   "id": "468e8993",
   "metadata": {},
   "outputs": [],
   "source": [
    "check51(numpy.matrix([[1,None,1,None,1],[0,None,0,None,0],[None,None,None,None,0],[None,None,None,None,1],[None,0,0,None,1]]))"
   ]
  },
  {
   "cell_type": "code",
   "execution_count": 17,
   "id": "92b4ee7a",
   "metadata": {},
   "outputs": [],
   "source": [
    "check51(numpy.matrix([[1,None,None,None,0],[0,None,None,None,1],[None,None,None,None,0],[None,None,None,None,1],[1,0,0,0,1]]))"
   ]
  },
  {
   "cell_type": "code",
   "execution_count": 18,
   "id": "b9754d88",
   "metadata": {},
   "outputs": [
    {
     "data": {
      "text/plain": [
       "1290240"
      ]
     },
     "execution_count": 18,
     "metadata": {},
     "output_type": "execute_result"
    }
   ],
   "source": [
    "len(e)"
   ]
  },
  {
   "cell_type": "code",
   "execution_count": 19,
   "id": "8019c36b",
   "metadata": {},
   "outputs": [
    {
     "data": {
      "text/plain": [
       "270270"
      ]
     },
     "execution_count": 19,
     "metadata": {},
     "output_type": "execute_result"
    }
   ],
   "source": [
    "len(f)"
   ]
  },
  {
   "cell_type": "code",
   "execution_count": 20,
   "id": "fc2423bd",
   "metadata": {},
   "outputs": [
    {
     "data": {
      "text/plain": [
       "True"
      ]
     },
     "execution_count": 20,
     "metadata": {},
     "output_type": "execute_result"
    }
   ],
   "source": [
    "(numpy.array(f)==0).all()"
   ]
  },
  {
   "cell_type": "code",
   "execution_count": 21,
   "id": "48ccde6b",
   "metadata": {},
   "outputs": [
    {
     "data": {
      "text/plain": [
       "True"
      ]
     },
     "execution_count": 21,
     "metadata": {},
     "output_type": "execute_result"
    }
   ],
   "source": [
    "(numpy.array(e)==0).all()"
   ]
  },
  {
   "cell_type": "code",
   "execution_count": null,
   "id": "ce7c756e",
   "metadata": {},
   "outputs": [],
   "source": []
  }
 ],
 "metadata": {
  "kernelspec": {
   "display_name": "Python 3 (ipykernel)",
   "language": "python",
   "name": "python3"
  },
  "language_info": {
   "codemirror_mode": {
    "name": "ipython",
    "version": 3
   },
   "file_extension": ".py",
   "mimetype": "text/x-python",
   "name": "python",
   "nbconvert_exporter": "python",
   "pygments_lexer": "ipython3",
   "version": "3.9.13"
  }
 },
 "nbformat": 4,
 "nbformat_minor": 5
}
