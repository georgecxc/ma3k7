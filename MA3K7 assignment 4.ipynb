{
 "cells": [
  {
   "cell_type": "code",
   "execution_count": 1,
   "id": "a699b3f7",
   "metadata": {},
   "outputs": [],
   "source": [
    "import math"
   ]
  },
  {
   "cell_type": "code",
   "execution_count": 2,
   "id": "825a2765",
   "metadata": {},
   "outputs": [],
   "source": [
    "def coin(x):\n",
    "    if x>=25:\n",
    "        if x==25:\n",
    "            a.append(1)\n",
    "        else:\n",
    "            a.append(0)\n",
    "    else:\n",
    "        coin(x+1)\n",
    "        coin(x+2)"
   ]
  },
  {
   "cell_type": "code",
   "execution_count": 3,
   "id": "efccf828",
   "metadata": {},
   "outputs": [],
   "source": [
    "a=[]\n",
    "coin(1)"
   ]
  },
  {
   "cell_type": "code",
   "execution_count": 4,
   "id": "55664ba1",
   "metadata": {},
   "outputs": [
    {
     "name": "stdout",
     "output_type": "stream",
     "text": [
      "the total number of combinations just after reach number 25 is 121393 , the number of them land on 25 is 75025\n"
     ]
    }
   ],
   "source": [
    "print('the total number of combinations just after reach number 25 is',len(a),', the number of them land on 25 is',a.count(1))"
   ]
  },
  {
   "cell_type": "code",
   "execution_count": 5,
   "id": "523a402c",
   "metadata": {},
   "outputs": [
    {
     "name": "stdout",
     "output_type": "stream",
     "text": [
      "the probability calculated by above result is 0.6180339887802427\n"
     ]
    }
   ],
   "source": [
    "print('the probability calculated by above result is',a.count(1)/len(a))"
   ]
  },
  {
   "cell_type": "code",
   "execution_count": 6,
   "id": "17daf826",
   "metadata": {},
   "outputs": [],
   "source": [
    "def coin1(x,y):\n",
    "    if y==24:\n",
    "        if 25 in x:\n",
    "            b.append(1)\n",
    "        else:\n",
    "            b.append(0)\n",
    "    else:\n",
    "        c=x.copy()\n",
    "        c.append(x[-1]+1)\n",
    "        coin1(c,y+1)\n",
    "        d=x.copy()\n",
    "        d.append(x[-1]+2)\n",
    "        coin1(d,y+1)"
   ]
  },
  {
   "cell_type": "code",
   "execution_count": 7,
   "id": "6c90b7e0",
   "metadata": {},
   "outputs": [],
   "source": [
    "b=[]\n",
    "coin1([1],0)"
   ]
  },
  {
   "cell_type": "code",
   "execution_count": 8,
   "id": "ff70104d",
   "metadata": {},
   "outputs": [
    {
     "name": "stdout",
     "output_type": "stream",
     "text": [
      "the total number of possible combinations in 24 throw of coin is 16777216 , and the number of them land on number 25 is 11184811\n"
     ]
    }
   ],
   "source": [
    "print('the total number of possible combinations in 24 throw of coin is',len(b),', and the number of them land on number 25 is',b.count(1))"
   ]
  },
  {
   "cell_type": "code",
   "execution_count": 9,
   "id": "1eb4ce33",
   "metadata": {},
   "outputs": [
    {
     "name": "stdout",
     "output_type": "stream",
     "text": [
      "the actual probability is 0.6666666865348816\n"
     ]
    }
   ],
   "source": [
    "print('the actual probability is',b.count(1)/len(b))"
   ]
  },
  {
   "cell_type": "code",
   "execution_count": 10,
   "id": "1d86356a",
   "metadata": {},
   "outputs": [],
   "source": [
    "c=0\n",
    "for i in range(13):\n",
    "    c+=math.comb(12+i,i*2)*(2**(12-i))"
   ]
  },
  {
   "cell_type": "code",
   "execution_count": 11,
   "id": "b6e1a44c",
   "metadata": {},
   "outputs": [
    {
     "name": "stdout",
     "output_type": "stream",
     "text": [
      "the number of distinct combinations that land on number 25 at some point calculated is 11184811\n"
     ]
    }
   ],
   "source": [
    "print('the number of distinct combinations that land on number 25 at some point calculated is',c)"
   ]
  },
  {
   "cell_type": "code",
   "execution_count": 12,
   "id": "7fc7fcfe",
   "metadata": {},
   "outputs": [
    {
     "name": "stdout",
     "output_type": "stream",
     "text": [
      "the probability generate from the calculated result is 0.6666666865348816\n"
     ]
    }
   ],
   "source": [
    "print('the probability generate from the calculated result is',c/(2**24))"
   ]
  },
  {
   "cell_type": "code",
   "execution_count": 13,
   "id": "fa78b5df",
   "metadata": {},
   "outputs": [],
   "source": [
    "d=0\n",
    "for i in range(15):\n",
    "    d+=math.comb(14+i,i*2)*(2**(14-i))"
   ]
  },
  {
   "cell_type": "code",
   "execution_count": 14,
   "id": "7fb81607",
   "metadata": {},
   "outputs": [
    {
     "name": "stdout",
     "output_type": "stream",
     "text": [
      "the probability of landing on number 29 is 0.6666666679084301\n"
     ]
    }
   ],
   "source": [
    "print('the probability of landing on number 29 is',d/2**28)"
   ]
  },
  {
   "cell_type": "code",
   "execution_count": 15,
   "id": "1be71a7c",
   "metadata": {},
   "outputs": [],
   "source": [
    "e=0\n",
    "for i in range(18):\n",
    "    e+=math.comb(17+i,i*2)*(2**(17-i))"
   ]
  },
  {
   "cell_type": "code",
   "execution_count": 16,
   "id": "58938283",
   "metadata": {},
   "outputs": [
    {
     "name": "stdout",
     "output_type": "stream",
     "text": [
      "the probability of landing on number 35 is 0.6666666666860692\n"
     ]
    }
   ],
   "source": [
    "print('the probability of landing on number 35 is',e/2**34)"
   ]
  },
  {
   "cell_type": "code",
   "execution_count": 17,
   "id": "5b51ed7f",
   "metadata": {},
   "outputs": [
    {
     "name": "stdout",
     "output_type": "stream",
     "text": [
      "the difference between probability of landing on 25 with 2/3 is 1.9868214962137642e-08\n"
     ]
    }
   ],
   "source": [
    "print('the difference between probability of landing on 25 with 2/3 is',c/(2**24)-2/3)"
   ]
  },
  {
   "cell_type": "code",
   "execution_count": 18,
   "id": "f2510629",
   "metadata": {},
   "outputs": [
    {
     "name": "stdout",
     "output_type": "stream",
     "text": [
      "the difference between probability of landing on 29 with 2/3 is 1.2417634698280722e-09\n"
     ]
    }
   ],
   "source": [
    "print('the difference between probability of landing on 29 with 2/3 is',d/(2**28)-2/3)"
   ]
  },
  {
   "cell_type": "code",
   "execution_count": 19,
   "id": "25a0f01a",
   "metadata": {},
   "outputs": [
    {
     "name": "stdout",
     "output_type": "stream",
     "text": [
      "the difference between probability of landing on 35 with 2/3 is 1.9402590645256623e-11\n"
     ]
    }
   ],
   "source": [
    "print('the difference between probability of landing on 35 with 2/3 is',e/(2**34)-2/3)"
   ]
  }
 ],
 "metadata": {
  "kernelspec": {
   "display_name": "Python 3 (ipykernel)",
   "language": "python",
   "name": "python3"
  },
  "language_info": {
   "codemirror_mode": {
    "name": "ipython",
    "version": 3
   },
   "file_extension": ".py",
   "mimetype": "text/x-python",
   "name": "python",
   "nbconvert_exporter": "python",
   "pygments_lexer": "ipython3",
   "version": "3.9.13"
  }
 },
 "nbformat": 4,
 "nbformat_minor": 5
}
